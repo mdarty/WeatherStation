{
 "cells": [
  {
   "cell_type": "code",
   "execution_count": 1,
   "metadata": {},
   "outputs": [],
   "source": [
    "import random"
   ]
  },
  {
   "cell_type": "code",
   "execution_count": 2,
   "metadata": {},
   "outputs": [],
   "source": [
    "from paho.mqtt import client as mqtt_client"
   ]
  },
  {
   "cell_type": "code",
   "execution_count": 3,
   "metadata": {},
   "outputs": [],
   "source": [
    "broker = 'benaiah.home'\n",
    "port = 1883\n",
    "topic = \"homeassistant/WeatherStation/#\"\n",
    "client_id = f'python-mqtt-{random.randint(0, 1000)}'\n",
    "username = 'MAC'\n",
    "password = 'Hoojoon8'"
   ]
  },
  {
   "cell_type": "code",
   "execution_count": 4,
   "metadata": {},
   "outputs": [],
   "source": [
    "msg_dict = {}"
   ]
  },
  {
   "cell_type": "code",
   "execution_count": 5,
   "metadata": {},
   "outputs": [],
   "source": [
    "def connect_mqtt():\n",
    "    def on_connect(client, userdata, flags, rc):\n",
    "        if rc == 0:\n",
    "            print(\"Connected to MQTT Broker!\")\n",
    "        else:\n",
    "            print(\"Failed to connect, return code %d\\n\", rc)\n",
    "    # Set Connecting Client ID\n",
    "    client = mqtt_client.Client(client_id)\n",
    "    client.username_pw_set(username, password)\n",
    "    client.on_connect = on_connect\n",
    "    client.connect(broker, port)\n",
    "    return client"
   ]
  },
  {
   "cell_type": "code",
   "execution_count": 6,
   "metadata": {},
   "outputs": [],
   "source": [
    "def subscribe(client: mqtt_client):\n",
    "    def on_message(client, userdata, msg):\n",
    "        print(f\"Received `{msg.payload.decode()}` from `{msg.topic}` topic\")\n",
    "\n",
    "    client.subscribe(topic)\n",
    "    client.on_message = on_message"
   ]
  },
  {
   "cell_type": "code",
   "execution_count": 7,
   "metadata": {},
   "outputs": [],
   "source": [
    "def run():\n",
    "    client = connect_mqtt()\n",
    "    subscribe(client)\n",
    "    client.loop_forever()"
   ]
  },
  {
   "cell_type": "code",
   "execution_count": null,
   "metadata": {},
   "outputs": [
    {
     "name": "stdout",
     "output_type": "stream",
     "text": [
      "Connected to MQTT Broker!\n"
     ]
    }
   ],
   "source": [
    "run()"
   ]
  },
  {
   "cell_type": "code",
   "execution_count": 2,
   "metadata": {},
   "outputs": [],
   "source": [
    "import json"
   ]
  },
  {
   "cell_type": "code",
   "execution_count": 21,
   "metadata": {},
   "outputs": [],
   "source": [
    "strings = []"
   ]
  },
  {
   "cell_type": "code",
   "execution_count": 22,
   "metadata": {},
   "outputs": [],
   "source": [
    "strings.append(\"\"\"\n",
    "{\"dev\":{\"name\":\"WeatherStation\",\"mf\":\"Darty\",\"sw\":\"0.1\",\"ml\":\"Prototype\",\"sa\":\"Outside\",\"ids\":[\"Prototype\"]},\"unique_id\":\"WeatherStation_temp\",\"device_class\":\"temperature\",\"name\":\"Outside Temperature\",\"unit_of_meas\":\"°F\",\"value_template\":\"{{ value_json.Temp }}\",\"object_id\":\"sensor.WeatherStation_temp\",\"avty_t\":\"WeatherStation/LWT\",\"pl_avail\":\"Online\",\"pl_not_avail\":\"Offline\",\"state_topic\":\"WeatherStation/state\",\"force_update\":true}\n",
    "\"\"\")"
   ]
  },
  {
   "cell_type": "code",
   "execution_count": 23,
   "metadata": {},
   "outputs": [],
   "source": [
    "strings.append(\"\"\"\n",
    "{\"dev\":{\"name\":\"WeatherStation\",\"mf\":\"Darty\",\"sw\":\"0.1\",\"ml\":\"Prototype\",\"sa\":\"Outside\",\"ids\":[\"Prototype\"]},\"unique_id\":\"WeatherStation_humidity\",\"device_class\":\"humidity\",\"name\":\"Outside Humidity\",\"unit_of_meas\":\"%\",\"value_template\":\"{{ value_json.RH }}\",\"object_id\":\"sensor.WeatherStation_humidity\",\"avty_t\":\"WeatherStation/LWT\",\"pl_avail\":\"Online\",\"pl_not_avail\":\"Offline\",\"state_topic\":\"WeatherStation/state\",\"force_update\":true}\n",
    "\"\"\")"
   ]
  },
  {
   "cell_type": "code",
   "execution_count": 24,
   "metadata": {},
   "outputs": [],
   "source": [
    "strings.append(\"\"\"\n",
    "{\"dev\":{\"name\":\"WeatherStation\",\"mf\":\"Darty\",\"sw\":\"0.1\",\"ml\":\"Prototype\",\"sa\":\"Outside\",\"ids\":[\"Prototype\"]},\"unique_id\":\"WeatherStation_pressure\",\"device_class\":\"pressure\",\"name\":\"Barometric Pressure\",\"unit_of_meas\":\"hPa\",\"value_template\":\"{{ value_json.Pres }}\",\"object_id\":\"sensor.WeatherStation_pressure\",\"avty_t\":\"WeatherStation/LWT\",\"pl_avail\":\"Online\",\"pl_not_avail\":\"Offline\",\"state_topic\":\"WeatherStation/state\",\"force_update\":true}\n",
    "\"\"\")"
   ]
  },
  {
   "cell_type": "code",
   "execution_count": 25,
   "metadata": {},
   "outputs": [],
   "source": [
    "strings.append(\"\"\"\n",
    "{\"dev\":{\"name\":\"WeatherStation\",\"mf\":\"Darty\",\"sw\":\"0.1\",\"ml\":\"Prototype\",\"sa\":\"Outside\",\"ids\":[\"Prototype\"]},\"unique_id\":\"WeatherStation_wind_direction\",\"name\":\"Wind Direction\",\"icon\":\"mdi:compass\",\"unit_of_meas\":\"deg\",\"value_template\":\"{{ value_json.wDir }}\",\"object_id\":\"sensor.WeatherStation_wind_direction\",\"avty_t\":\"WeatherStation/LWT\",\"pl_avail\":\"Online\",\"pl_not_avail\":\"Offline\",\"state_topic\":\"WeatherStation/state\",\"force_update\":true}\n",
    "\"\"\")"
   ]
  },
  {
   "cell_type": "code",
   "execution_count": 26,
   "metadata": {},
   "outputs": [],
   "source": [
    "strings.append(\"\"\"\n",
    "{\"dev\":{\"name\":\"WeatherStation\",\"mf\":\"Darty\",\"sw\":\"0.1\",\"ml\":\"Prototype\",\"sa\":\"Outside\",\"ids\":[\"Prototype\"]},\"unique_id\":\"WeatherStation_wind_speed\",\"name\":\"Wind Speed\",\"icon\":\"mdi:weather-windy\",\"unit_of_meas\":\"mph\",\"value_template\":\"{{ value_json.wSpd }}\",\"object_id\":\"sensor.WeatherStation_wind_speed\",\"avty_t\":\"WeatherStation/LWT\",\"pl_avail\":\"Online\",\"pl_not_avail\":\"Offline\",\"state_topic\":\"WeatherStation/state\",\"force_update\":true}\n",
    "\"\"\")"
   ]
  },
  {
   "cell_type": "code",
   "execution_count": 27,
   "metadata": {},
   "outputs": [],
   "source": [
    "strings.append(\"\"\"\n",
    "{\"dev\":{\"name\":\"WeatherStation\",\"mf\":\"Darty\",\"sw\":\"0.1\",\"ml\":\"Prototype\",\"sa\":\"Outside\",\"ids\":[\"Prototype\"]},\"unique_id\":\"WeatherStation_rain_last_hour\",\"name\":\"Rain Last Hour\",\"icon\":\"mdi:weather-rainy\",\"unit_of_meas\":\"in\",\"value_template\":\"{{ value_json.rLstHr }}\",\"object_id\":\"sensor.WeatherStation_rain_last_hour\",\"avty_t\":\"WeatherStation/LWT\",\"pl_avail\":\"Online\",\"pl_not_avail\":\"Offline\",\"state_topic\":\"WeatherStation/state\",\"force_update\":true}\n",
    "\"\"\")"
   ]
  },
  {
   "cell_type": "code",
   "execution_count": 28,
   "metadata": {},
   "outputs": [],
   "source": [
    "strings.append(\"\"\"\n",
    "{\"dev\":{\"name\":\"WeatherStation\",\"mf\":\"Darty\",\"sw\":\"0.1\",\"ml\":\"Prototype\",\"sa\":\"Outside\",\"ids\":[\"Prototype\"]},\"unique_id\":\"WeatherStation_rain_last_24hrs\",\"name\":\"Rain Last 24 Hours\",\"icon\":\"mdi:weather-rainy\",\"unit_of_meas\":\"in\",\"value_template\":\"{{ value_json.rLst24hrs }}\",\"object_id\":\"sensor.WeatherStation_rain_last_24hrs\",\"avty_t\":\"WeatherStation/LWT\",\"pl_avail\":\"Online\",\"pl_not_avail\":\"Offline\",\"state_topic\":\"WeatherStation/state\",\"force_update\":true}\n",
    "\"\"\")"
   ]
  },
  {
   "cell_type": "code",
   "execution_count": 29,
   "metadata": {},
   "outputs": [],
   "source": [
    "strings.append(\"\"\"\n",
    "{\"dev\":{\"name\":\"WeatherStation\",\"mf\":\"Darty\",\"sw\":\"0.1\",\"ml\":\"Prototype\",\"sa\":\"Outside\",\"ids\":[\"Prototype\"]},\"unique_id\":\"WeatherStation_soil_moisture\",\"name\":\"Soil Moisture\",\"icon\":\"mdi:water-percent\",\"unit_of_meas\":\"%\",\"value_template\":\"{{ value_json.SoilMoisture }}\",\"object_id\":\"sensor.WeatherStation_soil_moisture\",\"avty_t\":\"WeatherStation/LWT\",\"pl_avail\":\"Online\",\"pl_not_avail\":\"Offline\",\"state_topic\":\"WeatherStation/state\",\"force_update\":true}\n",
    "\"\"\")"
   ]
  },
  {
   "cell_type": "code",
   "execution_count": 30,
   "metadata": {},
   "outputs": [],
   "source": [
    "strings.append(\"\"\"\n",
    "{\"dev\":{\"name\":\"WeatherStation\",\"mf\":\"Darty\",\"sw\":\"0.1\",\"ml\":\"Prototype\",\"sa\":\"Outside\",\"ids\":[\"Prototype\"]},\"unique_id\":\"WeatherStation_battery\",\"device_class\":\"battery\",\"name\":\"WS_Battery\",\"unit_of_meas\":\"%\",\"value_template\":\"{{ value_json.Battery }}\",\"object_id\":\"sensor.WeatherStation_battery\",\"avty_t\":\"WeatherStation/LWT\",\"pl_avail\":\"Online\",\"pl_not_avail\":\"Offline\",\"state_topic\":\"WeatherStation/state\",\"force_update\":true}\n",
    "\"\"\")"
   ]
  },
  {
   "cell_type": "code",
   "execution_count": 31,
   "metadata": {},
   "outputs": [],
   "source": [
    "strings.append(\"\"\"\n",
    "{\"dev\":{\"name\":\"WeatherStation\",\"mf\":\"Darty\",\"sw\":\"0.1\",\"ml\":\"Prototype\",\"sa\":\"Outside\",\"ids\":[\"Prototype\"]},\"unique_id\":\"WeatherStation_timestamp\",\"device_class\":\"timestamp\",\"name\":\"WS Time\",\"value_template\":\"{{ value_json.Time }}\",\"object_id\":\"sensor.WeatherStation_timestamp\",\"avty_t\":\"WeatherStation/LWT\",\"pl_avail\":\"Online\",\"pl_not_avail\":\"Offline\",\"state_topic\":\"WeatherStation/state\",\"force_update\":true}\n",
    "\"\"\")"
   ]
  },
  {
   "cell_type": "code",
   "execution_count": 32,
   "metadata": {},
   "outputs": [],
   "source": [
    "strings.append(\"\"\"\n",
    "{\"dev\":{\"name\":\"WeatherStation\",\"mf\":\"Darty\",\"sw\":\"0.1\",\"ml\":\"Prototype\",\"sa\":\"Outside\",\"ids\":[\"Prototype\"]},\"unique_id\":\"WeatherStation_bat_mode\",\"name\":\"WS Battery Mode\",\"value_template\":\"{{ value_json.batMode }}\",\"object_id\":\"sensor.WeatherStation_bat_mode\",\"avty_t\":\"WeatherStation/LWT\",\"pl_avail\":\"Online\",\"pl_not_avail\":\"Offline\",\"state_topic\":\"WeatherStation/state\",\"force_update\":true}\n",
    "\"\"\")"
   ]
  },
  {
   "cell_type": "code",
   "execution_count": 33,
   "metadata": {},
   "outputs": [],
   "source": [
    "strings.append(\"\"\"\n",
    "{\"dev\":{\"name\":\"WeatherStation\",\"mf\":\"Darty\",\"sw\":\"0.1\",\"ml\":\"Prototype\",\"sa\":\"Outside\",\"ids\":[\"Prototype\"]},\"unique_id\":\"WeatherStation_bat_duty\",\"name\":\"WS Battery Duty\",\"value_template\":\"{{ value_json.batDuty }}\",\"object_id\":\"sensor.WeatherStation_bat_duty\",\"avty_t\":\"WeatherStation/LWT\",\"pl_avail\":\"Online\",\"pl_not_avail\":\"Offline\",\"state_topic\":\"WeatherStation/state\",\"force_update\":true}\n",
    "\"\"\")"
   ]
  },
  {
   "cell_type": "code",
   "execution_count": 34,
   "metadata": {},
   "outputs": [],
   "source": [
    "strings.append(\"\"\"\n",
    "{\"dev\":{\"name\":\"WeatherStation\",\"mf\":\"Darty\",\"sw\":\"0.1\",\"ml\":\"Prototype\",\"sa\":\"Outside\",\"ids\":[\"Prototype\"]},\"unique_id\":\"WeatherStation_solarV\",\"device_class\":\"Voltage\",\"name\":\"WS Solar Voltage\",\"unit_of_meas\":\"V\",\"value_template\":\"{{ value_json.solarV }}\",\"object_id\":\"sensor.WeatherStation_solarV\",\"avty_t\":\"WeatherStation/LWT\",\"pl_avail\":\"Online\",\"pl_not_avail\":\"Offline\",\"state_topic\":\"WeatherStation/state\",\"force_update\":true}\n",
    "\"\"\")"
   ]
  },
  {
   "cell_type": "code",
   "execution_count": 54,
   "metadata": {},
   "outputs": [],
   "source": [
    "strings.append(\"\"\"\n",
    "{\"dev\":{\"name\":\"WeatherStation\",\"mf\":\"Darty\",\"sw\":\"0.1\",\"ml\":\"Prototype\",\"sa\":\"Outside\",\"ids\":[\"Prototype\"]},\"unique_id\":\"WeatherStation_rain_since_midnight\",\"name\":\"Rain Since Midnight\",\"icon\":\"mdi:weather-rainy\",\"unit_of_meas\":\"in\",\"value_template\":\"{{ value_json.rMidngt }}\",\"object_id\":\"sensor.WeatherStation_rain_since_midnight\",\"avty_t\":\"WeatherStation/LWT\",\"pl_avail\":\"Online\",\"pl_not_avail\":\"Offline\",\"state_topic\":\"WeatherStation/state\",\"force_update\":true}\n",
    "\"\"\")"
   ]
  },
  {
   "cell_type": "code",
   "execution_count": 12,
   "metadata": {},
   "outputs": [],
   "source": [
    "payload = json.loads(string)"
   ]
  },
  {
   "cell_type": "code",
   "execution_count": 13,
   "metadata": {},
   "outputs": [
    {
     "data": {
      "text/plain": [
       "{'dev': {'name': 'WeatherStation',\n",
       "  'mf': 'Darty',\n",
       "  'sw': '0.1',\n",
       "  'ml': 'Prototype',\n",
       "  'sa': 'Outside',\n",
       "  'ids': ['Prototype']},\n",
       " 'unique_id': 'WeatherStation_temp',\n",
       " 'device_class': 'temperature',\n",
       " 'name': 'Outside Temperature',\n",
       " 'unit_of_meas': '°F',\n",
       " 'value_template': '{{ value_json.Temp }}',\n",
       " 'object_id': 'sensor.WeatherStation_temp',\n",
       " 'avty_t': 'WeatherStation/LWT',\n",
       " 'pl_avail': 'Online',\n",
       " 'pl_not_avail': 'Offline',\n",
       " 'state_topic': 'WeatherStation/state',\n",
       " 'force_update': True}"
      ]
     },
     "execution_count": 13,
     "metadata": {},
     "output_type": "execute_result"
    }
   ],
   "source": [
    "payload"
   ]
  },
  {
   "cell_type": "code",
   "execution_count": 8,
   "metadata": {},
   "outputs": [],
   "source": [
    "import yaml"
   ]
  },
  {
   "cell_type": "code",
   "execution_count": 9,
   "metadata": {},
   "outputs": [],
   "source": [
    "y = yaml.dump(test)"
   ]
  },
  {
   "cell_type": "code",
   "execution_count": 11,
   "metadata": {},
   "outputs": [
    {
     "name": "stdout",
     "output_type": "stream",
     "text": [
      "avty_t: WeatherStation/LWT\n",
      "dev:\n",
      "  ids:\n",
      "  - Prototype\n",
      "  mf: Darty\n",
      "  ml: Prototype\n",
      "  name: WeatherStation\n",
      "  sa: Outside\n",
      "  sw: '0.1'\n",
      "device_class: temperature\n",
      "force_update: true\n",
      "name: Outside Temperature\n",
      "object_id: sensor.WeatherStation_temp\n",
      "pl_avail: Online\n",
      "pl_not_avail: Offline\n",
      "state_topic: WeatherStation/state\n",
      "unique_id: WeatherStation_temp\n",
      "unit_of_meas: \"\\xB0F\"\n",
      "value_template: '{{ value_json.Temp }}'\n",
      "\n"
     ]
    }
   ],
   "source": [
    "print(y)"
   ]
  },
  {
   "cell_type": "code",
   "execution_count": 41,
   "metadata": {},
   "outputs": [
    {
     "data": {
      "text/plain": [
       "'WeatherStation'"
      ]
     },
     "execution_count": 41,
     "metadata": {},
     "output_type": "execute_result"
    }
   ],
   "source": [
    "json.loads(strings[0])['dev']['name']"
   ]
  },
  {
   "cell_type": "code",
   "execution_count": 55,
   "metadata": {},
   "outputs": [
    {
     "name": "stdout",
     "output_type": "stream",
     "text": [
      "mqtt:\n",
      "  sensor:\n",
      "    - name: \"Outside Temperature\"\n",
      "      device_class: \"temperature\"\n",
      "      unique_id: \"WeatherStation_temp\"\n",
      "      qos: 0\n",
      "      state_topic: \"WeatherStation/state\"\n",
      "      value_template: \"{{ value_json.Temp }}\"\n",
      "      device:\n",
      "        name: \"WeatherStation\"\n",
      "        suggested_area: \"Outside\"\n",
      "        identifiers: \"WeatherStation\"\n",
      "    - name: \"Outside Humidity\"\n",
      "      device_class: \"humidity\"\n",
      "      unique_id: \"WeatherStation_humidity\"\n",
      "      qos: 0\n",
      "      state_topic: \"WeatherStation/state\"\n",
      "      value_template: \"{{ value_json.RH }}\"\n",
      "      device:\n",
      "        name: \"WeatherStation\"\n",
      "        suggested_area: \"Outside\"\n",
      "        identifiers: \"WeatherStation\"\n",
      "    - name: \"Outdoor Temperature\"\n",
      "      device_class: \"pressure\"\n",
      "      unique_id: \"WeatherStation_pressure\"\n",
      "      qos: 0\n",
      "      state_topic: \"WeatherStation/state\"\n",
      "      value_template: \"{{ value_json.Pres }}\"\n",
      "      device:\n",
      "        name: \"WeatherStation\"\n",
      "        suggested_area: \"Outside\"\n",
      "        identifiers: \"WeatherStation\"\n",
      "    - name: \"Wind Direction\"\n",
      "      unique_id: \"WeatherStation_wind_direction\"\n",
      "      qos: 0\n",
      "      state_topic: \"WeatherStation/state\"\n",
      "      value_template: \"{{ value_json.wDir }}\"\n",
      "      icon: \"mdi:compass\"\n",
      "      device:\n",
      "        name: \"WeatherStation\"\n",
      "        suggested_area: \"Outside\"\n",
      "        identifiers: \"WeatherStation\"\n",
      "    - name: \"Wind Speed\"\n",
      "      unique_id: \"WeatherStation_wind_speed\"\n",
      "      qos: 0\n",
      "      state_topic: \"WeatherStation/state\"\n",
      "      value_template: \"{{ value_json.wSpd }}\"\n",
      "      icon: \"mdi:weather-windy\"\n",
      "      device:\n",
      "        name: \"WeatherStation\"\n",
      "        suggested_area: \"Outside\"\n",
      "        identifiers: \"WeatherStation\"\n",
      "    - name: \"Rain Last Hour\"\n",
      "      unique_id: \"WeatherStation_rain_last_hour\"\n",
      "      qos: 0\n",
      "      state_topic: \"WeatherStation/state\"\n",
      "      value_template: \"{{ value_json.rLstHr }}\"\n",
      "      icon: \"mdi:weather-rainy\"\n",
      "      device:\n",
      "        name: \"WeatherStation\"\n",
      "        suggested_area: \"Outside\"\n",
      "        identifiers: \"WeatherStation\"\n",
      "    - name: \"Rain Last 24 Hours\"\n",
      "      unique_id: \"WeatherStation_rain_last_24hrs\"\n",
      "      qos: 0\n",
      "      state_topic: \"WeatherStation/state\"\n",
      "      value_template: \"{{ value_json.rLst24hrs }}\"\n",
      "      icon: \"mdi:weather-rainy\"\n",
      "      device:\n",
      "        name: \"WeatherStation\"\n",
      "        suggested_area: \"Outside\"\n",
      "        identifiers: \"WeatherStation\"\n",
      "    - name: \"Soil Moisture\"\n",
      "      unique_id: \"WeatherStation_soil_moisture\"\n",
      "      qos: 0\n",
      "      state_topic: \"WeatherStation/state\"\n",
      "      value_template: \"{{ value_json.SoilMoisture }}\"\n",
      "      icon: \"mdi:water-percent\"\n",
      "      device:\n",
      "        name: \"WeatherStation\"\n",
      "        suggested_area: \"Outside\"\n",
      "        identifiers: \"WeatherStation\"\n",
      "    - name: \"WS_Battery\"\n",
      "      device_class: \"battery\"\n",
      "      unique_id: \"WeatherStation_battery\"\n",
      "      qos: 0\n",
      "      state_topic: \"WeatherStation/state\"\n",
      "      value_template: \"{{ value_json.Battery }}\"\n",
      "      device:\n",
      "        name: \"WeatherStation\"\n",
      "        suggested_area: \"Outside\"\n",
      "        identifiers: \"WeatherStation\"\n",
      "    - name: \"WS Time\"\n",
      "      device_class: \"timestamp\"\n",
      "      unique_id: \"WeatherStation_timestamp\"\n",
      "      qos: 0\n",
      "      state_topic: \"WeatherStation/state\"\n",
      "      value_template: \"{{ value_json.Time }}\"\n",
      "      device:\n",
      "        name: \"WeatherStation\"\n",
      "        suggested_area: \"Outside\"\n",
      "        identifiers: \"WeatherStation\"\n",
      "    - name: \"WS Battery Mode\"\n",
      "      unique_id: \"WeatherStation_bat_mode\"\n",
      "      qos: 0\n",
      "      state_topic: \"WeatherStation/state\"\n",
      "      value_template: \"{{ value_json.batMode }}\"\n",
      "      device:\n",
      "        name: \"WeatherStation\"\n",
      "        suggested_area: \"Outside\"\n",
      "        identifiers: \"WeatherStation\"\n",
      "    - name: \"WS Battery Duty\"\n",
      "      unique_id: \"WeatherStation_bat_duty\"\n",
      "      qos: 0\n",
      "      state_topic: \"WeatherStation/state\"\n",
      "      value_template: \"{{ value_json.batDuty }}\"\n",
      "      device:\n",
      "        name: \"WeatherStation\"\n",
      "        suggested_area: \"Outside\"\n",
      "        identifiers: \"WeatherStation\"\n",
      "    - name: \"WS Solar Voltage\"\n",
      "      device_class: \"Voltage\"\n",
      "      unique_id: \"WeatherStation_solarV\"\n",
      "      qos: 0\n",
      "      state_topic: \"WeatherStation/state\"\n",
      "      value_template: \"{{ value_json.solarV }}\"\n",
      "      device:\n",
      "        name: \"WeatherStation\"\n",
      "        suggested_area: \"Outside\"\n",
      "        identifiers: \"WeatherStation\"\n",
      "    - name: \"Rain Since Midnight\"\n",
      "      unique_id: \"WeatherStation_rain_since_midnight\"\n",
      "      qos: 0\n",
      "      state_topic: \"WeatherStation/state\"\n",
      "      value_template: \"{{ value_json.rMidngt }}\"\n",
      "      icon: \"mdi:weather-rainy\"\n",
      "      device:\n",
      "        name: \"WeatherStation\"\n",
      "        suggested_area: \"Outside\"\n",
      "        identifiers: \"WeatherStation\"\n"
     ]
    }
   ],
   "source": [
    "print(\"mqtt:\")\n",
    "print(\"  sensor:\")\n",
    "for string in strings:\n",
    "    payload = json.loads(string)\n",
    "    dev = payload['dev']\n",
    "    for k in ['name', 'device_class', 'unique_id', 'qos', 'state_topic', 'value_template', 'unit_of_measurement', 'icon']:\n",
    "        if k == 'name':\n",
    "            print(\"    - name: \\\"{}\\\"\".format(payload[k]))\n",
    "        elif k in payload.keys():\n",
    "            print(\"      {}: \\\"{}\\\"\".format(k, payload[k]))\n",
    "        elif k == 'qos':\n",
    "            print(\"      {}: {}\".format(k, 0))\n",
    "    print(\"      device:\")\n",
    "    for k in ['name', 'sa', 'identifiers']:\n",
    "        if k == 'sa':\n",
    "            print(\"        suggested_area: \\\"{}\\\"\".format(dev[k]))\n",
    "        elif k == 'identifiers':\n",
    "            print(\"        identifiers: \\\"WeatherStation\\\"\")\n",
    "        else:\n",
    "            print(\"        {}: \\\"{}\\\"\".format(k, dev[k]))"
   ]
  },
  {
   "cell_type": "code",
   "execution_count": 16,
   "metadata": {},
   "outputs": [
    {
     "data": {
      "text/plain": [
       "'Outside Temperature'"
      ]
     },
     "execution_count": 16,
     "metadata": {},
     "output_type": "execute_result"
    }
   ],
   "source": [
    "payload['name']"
   ]
  },
  {
   "cell_type": "raw",
   "metadata": {},
   "source": [
    "sensor:\n",
    "  - platform: mqtt\n",
    "    name: \"Outside temp\"\n",
    "    device_class: \"temperature\"\n",
    "    unique_id: \"weather_station_temp\"\n",
    "    qos: 0\n",
    "    state_topic: \"homeassistant/sensor/WeatherStation/state\"\n",
    "    value_template: \"{{ value_json.temp }}\"\n",
    "    unit_of_measurement: \"°F\"\n",
    "  - platform: mqtt\n",
    "    name: \"Outside Humidity\"\n",
    "    device_class: \"humidity\"\n",
    "    unique_id: \"weather_station_humidity\"\n",
    "    qos: 0\n",
    "    state_topic: \"homeassistant/sensor/WeatherStation/state\"\n",
    "    value_template: \"{{ value_json.RH }}\"\n",
    "    unit_of_measurement: \"%\""
   ]
  }
 ],
 "metadata": {
  "kernelspec": {
   "display_name": "Python 3",
   "language": "python",
   "name": "python3"
  },
  "language_info": {
   "codemirror_mode": {
    "name": "ipython",
    "version": 3
   },
   "file_extension": ".py",
   "mimetype": "text/x-python",
   "name": "python",
   "nbconvert_exporter": "python",
   "pygments_lexer": "ipython3",
   "version": "3.8.5"
  }
 },
 "nbformat": 4,
 "nbformat_minor": 4
}
